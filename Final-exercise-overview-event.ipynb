{
 "cells": [
  {
   "cell_type": "markdown",
   "metadata": {},
   "source": [
    "# Final Exercise overview\n",
    "The final exercise will comprise a bunch of mini-projects, together which will approximate a set of analysis tasks required during an emergency response.\n",
    "\n",
    "The tasks will be categorized into different response functions, loosely according to the Incident Command Structure. We will initially put people into groups based on their interests, just to make sure every task has some people working on it, but people are free to move between tasks as needed. Be sure to communicate amongst the tasks to let each other know when you could use more people or have downtime and can offer help to others.\n",
    "\n",
    "### Grid\n",
    "First, we will go over the game grid."
   ]
  },
  {
   "cell_type": "code",
   "execution_count": 1,
   "metadata": {},
   "outputs": [
    {
     "name": "stdout",
     "output_type": "stream",
     "text": [
      "Requirement already satisfied: dwave_networkx in /opt/conda/lib/python3.7/site-packages (0.8.6)\n",
      "Requirement already satisfied: dimod>=0.8.0 in /opt/conda/lib/python3.7/site-packages (from dwave_networkx) (0.9.5)\n",
      "Requirement already satisfied: decorator<5.0.0,>=4.1.0 in /opt/conda/lib/python3.7/site-packages (from dwave_networkx) (4.4.2)\n",
      "Requirement already satisfied: networkx<3.0,>=2.0 in /opt/conda/lib/python3.7/site-packages (from dwave_networkx) (2.4)\n",
      "Requirement already satisfied: numpy<2.0.0,>=1.16.0 in /opt/conda/lib/python3.7/site-packages (from dimod>=0.8.0->dwave_networkx) (1.18.5)\n",
      "Requirement already satisfied: vrpy in /opt/conda/lib/python3.7/site-packages (0.2.0)\n",
      "Requirement already satisfied: numpy in /opt/conda/lib/python3.7/site-packages (from vrpy) (1.18.5)\n",
      "Requirement already satisfied: pulp in /opt/conda/lib/python3.7/site-packages (from vrpy) (2.2)\n",
      "Requirement already satisfied: cspy in /opt/conda/lib/python3.7/site-packages (from vrpy) (0.1.1)\n",
      "Requirement already satisfied: networkx in /opt/conda/lib/python3.7/site-packages (from vrpy) (2.4)\n",
      "Requirement already satisfied: amply>=0.1.2 in /opt/conda/lib/python3.7/site-packages (from pulp->vrpy) (0.1.2)\n",
      "Requirement already satisfied: decorator>=4.3.0 in /opt/conda/lib/python3.7/site-packages (from networkx->vrpy) (4.4.2)\n",
      "Requirement already satisfied: docutils>=0.3 in /opt/conda/lib/python3.7/site-packages (from amply>=0.1.2->pulp->vrpy) (0.15.2)\n",
      "Requirement already satisfied: pyparsing in /opt/conda/lib/python3.7/site-packages (from amply>=0.1.2->pulp->vrpy) (2.4.7)\n"
     ]
    }
   ],
   "source": [
    "# install and import dependencies\n",
    "!pip install dwave_networkx\n",
    "!pip install vrpy\n",
    "import geopandas as gpd\n",
    "import numpy as np\n",
    "import dimod\n",
    "import networkx as nx\n",
    "import pandas as pd\n",
    "import dwave_networkx as dnx\n",
    "import seaborn as sns\n",
    "import pickle\n",
    "from shapely.geometry import Polygon\n",
    "import matplotlib.pyplot as plt\n",
    "from tqdm import tqdm\n",
    "from vrpy import VehicleRoutingProblem"
   ]
  },
  {
   "cell_type": "code",
   "execution_count": 2,
   "metadata": {},
   "outputs": [
    {
     "name": "stdout",
     "output_type": "stream",
     "text": [
      "wget: missing URL\n",
      "Usage: wget [OPTION]... [URL]...\n",
      "\n",
      "Try `wget --help' for more options.\n"
     ]
    }
   ],
   "source": [
    "!wget "
   ]
  },
  {
   "cell_type": "code",
   "execution_count": null,
   "metadata": {},
   "outputs": [
    {
     "name": "stdout",
     "output_type": "stream",
     "text": [
      "--2020-07-30 15:29:58--  https://docs.google.com/uc?export=download&id=1mX-mwgBz04nf8SOxKF2YVC3rkdbMa8PX\n",
      "Resolving docs.google.com (docs.google.com)... 172.217.9.46, 2607:f8b0:4009:815::200e\n",
      "Connecting to docs.google.com (docs.google.com)|172.217.9.46|:443... connected.\n",
      "HTTP request sent, awaiting response... "
     ]
    }
   ],
   "source": [
    "!wget --no-check-certificate 'https://docs.google.com/uc?export=download&id=1mX-mwgBz04nf8SOxKF2YVC3rkdbMa8PX' -O out.geojson"
   ]
  },
  {
   "cell_type": "code",
   "execution_count": null,
   "metadata": {},
   "outputs": [],
   "source": [
    "# read game_grid as GeoDataFrame and correct CRS (Coordinate Reference System)\n",
    "game_grid = gpd.read_file('out.geojson')\n",
    "game_grid.crs='epsg:3857'\n",
    "game_grid"
   ]
  },
  {
   "cell_type": "markdown",
   "metadata": {},
   "source": [
    "The game grid uses the [Military Grid Reference System (MGRS)](https://en.wikipedia.org/wiki/Military_Grid_Reference_System) which breaks the world up into 1-km square cells. The MGRS column is an alphanumeric code which uniquely refers to each of those cells.\n",
    "\n",
    "Each cell has some important attributes:\n",
    "- Population: how many people live in that cell\n",
    "- Health: Average health (higher better)\n",
    "- Utility: Average access to utilities (higher better)\n",
    "- Transport: How easy is it to move through the cell (higher better)\n",
    "- SVI: Social Vulnerability Index\n",
    " "
   ]
  },
  {
   "cell_type": "code",
   "execution_count": null,
   "metadata": {},
   "outputs": [],
   "source": [
    "game_grid.plot('SVI')"
   ]
  },
  {
   "cell_type": "code",
   "execution_count": null,
   "metadata": {},
   "outputs": [],
   "source": [
    "game_grid.plot('Transport')"
   ]
  },
  {
   "cell_type": "code",
   "execution_count": null,
   "metadata": {},
   "outputs": [],
   "source": [
    "game_grid.plot('Utility')"
   ]
  },
  {
   "cell_type": "code",
   "execution_count": null,
   "metadata": {},
   "outputs": [],
   "source": [
    "game_grid.plot('Health')"
   ]
  },
  {
   "cell_type": "markdown",
   "metadata": {},
   "source": [
    "### Facilities\n",
    "There are also a number of facilities shapefiles in the `facilities` folders which will be used for a number of the mini-projects.\n",
    "- airfields: places where airplanes and helicopters can be flown in/from\n",
    "- cell_towers: communications infrastructure\n",
    "- EMS: ambulance services\n",
    "- fire_stations: fire services\n",
    "- hospitals: hospitals\n",
    "- local_eocs: local emergency operations centers\n",
    "- powerplants: energy generating facilities\n",
    "- locations: places where people can be tended to\n",
    "- state_eocs: state emergency operatins centers"
   ]
  },
  {
   "cell_type": "markdown",
   "metadata": {},
   "source": [
    "# Logistics\n",
    "## Routing and Resource Management\n",
    "### Asset deployment\n",
    "You have access to 1 helicopter, 20 tractor-trailer trucks, and 20 pickup trucks. You can set up a base at any of the airfields of your choice. You can have up to 2 bases. Where do you place your assets?\n",
    "- helicopter: cost \\$1000/hr to operate, 250 km/hr speed - air, capacity: 2\n",
    "- tractor-trailer: cost \\$50/hr to operate, 100 km/hr speed - land, capacity: 20\n",
    "- pickup truck: cost \\$20/hr to operate, 120 km/hr speed - land, capacity: 3\n",
    "\n",
    "### Game grid to network conversion\n",
    "Convert the game grid gdf to a `networkx` object where each cell of the grid is a node, and it is connected to each of its adjacent nodes by an edge. The edge weight between node `node_i` and its neighbor `node_j` is given by the pseudocode formula:\n",
    "`weight_ij = (5/2)*((1/node_i.transport) + (1/node_j.transport))`\n",
    "\n",
    "where `node_i.transport` is the transport score of the cell `i`. The travel time across edge `ij` is given by `weight_ij*(120/speed_in_kmh)` minutes.\n",
    "\n",
    "The helicopter flies straight line to its targets and ignores the network weights.\n",
    "\n",
    "### Vehicle Routing Problem\n",
    "You will be given lists of facilities (from the ones in `facilities/`) you need to deliver supplies to. Create a tool to compute the routes you would take and the vehicles you would use in order to get the supplies to those facilities. The vehicles must begin and end their trip at one of your bases, but they do not necessarily need to end at the same one they began at. You will be given a budget and time frame, and you want to deliver as many supplies as possible to those facilities within your time frame and budget. "
   ]
  },
  {
   "cell_type": "code",
   "execution_count": null,
   "metadata": {},
   "outputs": [],
   "source": [
    "game_grid # print out initial game_grid to check data"
   ]
  },
  {
   "cell_type": "code",
   "execution_count": null,
   "metadata": {},
   "outputs": [],
   "source": [
    "# calculate basic flood risk heuristic based on distance to two coastline points\n",
    "game_grid['FLOOD_RISK']=-np.minimum(np.sqrt((game_grid['x_centroid']+70.3)**2+(game_grid['y_centroid']-42.2)**2),\n",
    "                                    np.sqrt((game_grid['x_centroid']+70.2)**2+(game_grid['y_centroid']-41.4)**2))\n",
    "game_grid['FLOOD_RISK']-=np.min(game_grid['FLOOD_RISK'])\n",
    "game_grid['FLOOD_RISK']/=np.max(game_grid['FLOOD_RISK'])"
   ]
  },
  {
   "cell_type": "code",
   "execution_count": null,
   "metadata": {},
   "outputs": [],
   "source": [
    "# calculate risk based upon flood risk and SVI (Social Vulnerability Index)\n",
    "game_grid['RISK']=game_grid['SVI']*(game_grid['FLOOD_RISK'])*0.9+0.1"
   ]
  },
  {
   "cell_type": "code",
   "execution_count": null,
   "metadata": {},
   "outputs": [],
   "source": [
    "game_grid.plot('RISK')"
   ]
  },
  {
   "cell_type": "code",
   "execution_count": null,
   "metadata": {},
   "outputs": [],
   "source": [
    "game_grid = game_grid.to_crs('epsg:4269') # convert geometry to latitude, longitude to match centroid location\n",
    "game_grid['EAST'] = pd.to_numeric(game_grid['EASTING'].str[:-5]) # calculate grid east position from easting and ignore trailing 000mE\n",
    "game_grid['NORTH'] = pd.to_numeric(game_grid['NORTHING'].str[:-5]) # calculate grid north position from northing and ignore trailing 000mN\n",
    "game_grid_pos = game_grid.set_index(['EAST', 'NORTH']) # set index to grid position for seperate dataframe\n",
    "game_grid = game_grid.set_index('MGRS') # use MGRS as main indexing method"
   ]
  },
  {
   "cell_type": "code",
   "execution_count": null,
   "metadata": {},
   "outputs": [],
   "source": [
    "# create a graph from GeoDataFrame connected as a grid\n",
    "G = nx.Graph() # create empty networkx graph\n",
    "for pos, cell in game_grid_pos.iterrows():\n",
    "    for neighbor_pos in [(pos[0]+1, pos[1]), # east\n",
    "                         (pos[0]-1, pos[1]), # west\n",
    "                         (pos[0],   pos[1]+1), # north\n",
    "                         (pos[0],   pos[1]-1)]: # south\n",
    "        if neighbor_pos in game_grid_pos.index:\n",
    "            neighbor = game_grid_pos.loc[neighbor_pos] # find neighbor in this direction\n",
    "            G.add_edge(cell['MGRS'], # cell MGRS id, used as node id\n",
    "                       neighbor['MGRS'], # neightbor MGRS id, used as node id\n",
    "                       weight = (1/cell['Transport'] + 1/neighbor['Transport']) * 5/2) # weight from definition"
   ]
  },
  {
   "cell_type": "code",
   "execution_count": null,
   "metadata": {},
   "outputs": [],
   "source": [
    "nx.set_node_attributes(G, game_grid.to_dict('index')) # use pandas DataFrame for node data"
   ]
  },
  {
   "cell_type": "code",
   "execution_count": null,
   "metadata": {},
   "outputs": [],
   "source": [
    "bases = ('19TCG1685','19TCG1752') # choose two bases for routes"
   ]
  },
  {
   "cell_type": "code",
   "execution_count": null,
   "metadata": {},
   "outputs": [],
   "source": [
    "positions=game_grid[['x_centroid', 'y_centroid']].T.to_dict('list') # positions of nodes to plot"
   ]
  },
  {
   "cell_type": "code",
   "execution_count": null,
   "metadata": {},
   "outputs": [],
   "source": [
    "# draw networkx graph\n",
    "# first draw edges\n",
    "ax=nx.draw(G,\n",
    "        positions, # use centroids for positions\n",
    "        width = 0.1,\n",
    "        node_size=0) # show thin edges\n",
    "# then draw base nodes\n",
    "nx.draw_networkx_nodes(G,\n",
    "        positions, # use centroids for positions\n",
    "        node_size = 100,\n",
    "        nodelist = list(bases), # only showing bases \n",
    "        ax=ax)\n",
    "plt.savefig('base_locations.svg', bbox_inches='tight')"
   ]
  },
  {
   "cell_type": "code",
   "execution_count": null,
   "metadata": {},
   "outputs": [],
   "source": [
    "# save angle from first base to cell\n",
    "game_grid['THETA'] = np.arctan2(game_grid['y_centroid']-game_grid.loc[bases[0],'y_centroid'],\n",
    "                                game_grid['x_centroid']-game_grid.loc[bases[0],'x_centroid'])\n",
    "game_grid.plot('THETA',figsize=(10,10))\n",
    "plt.savefig('cell_angles.svg', bbox_inches='tight')"
   ]
  },
  {
   "cell_type": "code",
   "execution_count": null,
   "metadata": {},
   "outputs": [],
   "source": [
    "# save distance from first base to cell\n",
    "game_grid['DISTANCE'] = pd.Series(nx.single_source_shortest_path_length(G,bases[0]))"
   ]
  },
  {
   "cell_type": "code",
   "execution_count": null,
   "metadata": {},
   "outputs": [],
   "source": [
    "location_type='all'"
   ]
  },
  {
   "cell_type": "code",
   "execution_count": null,
   "metadata": {},
   "outputs": [],
   "source": [
    "# load locations location from file and convert to same CRS as game_grid\n",
    "shelters=gpd.read_file(f'facilities/shelters.shp').to_crs('epsg:4269')\n",
    "hospitals=gpd.read_file(f'facilities/hospitals.shp').to_crs('epsg:4269')\n",
    "powerplants=gpd.read_file(f'facilities/powerplants.shp').to_crs('epsg:4269')\n",
    "celltowers=gpd.read_file(f'facilities/cell_towers.shp').to_crs('epsg:4269')\n",
    "ems=gpd.read_file(f'facilities/EMS.shp').to_crs('epsg:4269')"
   ]
  },
  {
   "cell_type": "code",
   "execution_count": null,
   "metadata": {},
   "outputs": [],
   "source": [
    "locations=shelters.append(hospitals).append(powerplants).append(celltowers).append(ems)"
   ]
  },
  {
   "cell_type": "code",
   "execution_count": null,
   "metadata": {},
   "outputs": [],
   "source": [
    "len(locations)"
   ]
  },
  {
   "cell_type": "code",
   "execution_count": null,
   "metadata": {},
   "outputs": [],
   "source": [
    "# convert locations to cell locations\n",
    "locations_gdf=gpd.sjoin(game_grid,locations,how='inner',op='contains')"
   ]
  },
  {
   "cell_type": "code",
   "execution_count": null,
   "metadata": {},
   "outputs": [],
   "source": [
    "ax=game_grid.plot('Transport',figsize=(20,20),cmap='copper')\n",
    "locations.plot(figsize=(20,20),ax=ax)\n",
    "plt.savefig(f'locations_{location_type}.svg', bbox_inches='tight')"
   ]
  },
  {
   "cell_type": "code",
   "execution_count": null,
   "metadata": {},
   "outputs": [],
   "source": [
    "# time for every cell is 20 minutes\n",
    "game_grid['TIME'] = 20\n",
    "locations_gdf['TIME'] = 20"
   ]
  },
  {
   "cell_type": "code",
   "execution_count": null,
   "metadata": {},
   "outputs": [],
   "source": [
    "locations_gdf # print merged GeoDataFrame with cells that contain locations"
   ]
  },
  {
   "cell_type": "code",
   "execution_count": null,
   "metadata": {},
   "outputs": [],
   "source": [
    "# divide the cells around the first base into 38 different regions based upon angle\n",
    "# all regions should take the same amount of time\n",
    "n=100\n",
    "sorted_locations=locations_gdf.sort_values('THETA')\n",
    "total=0\n",
    "region=0\n",
    "splits=[]\n",
    "region_splits=np.linspace(0,locations_gdf['TIME'].sum(),n-5)\n",
    "for i,x in sorted_locations.iterrows():\n",
    "    if i in locations_gdf.index and not np.isnan(x['TIME']):\n",
    "        total+=x['TIME']\n",
    "        if total>=region_splits[region+1]:\n",
    "            splits.append(i)\n",
    "            region+=1"
   ]
  },
  {
   "cell_type": "code",
   "execution_count": null,
   "metadata": {},
   "outputs": [],
   "source": [
    "# sort game_grid by angle\n",
    "game_grid = game_grid.sort_values('THETA')"
   ]
  },
  {
   "cell_type": "code",
   "execution_count": null,
   "metadata": {},
   "outputs": [],
   "source": [
    "# set region for each sector based upon start and stop cell names\n",
    "for i,a,b in zip(range(len(splits)),splits,np.roll(splits,1)):\n",
    "    game_grid.loc[b:a,'REGION']=i"
   ]
  },
  {
   "cell_type": "code",
   "execution_count": null,
   "metadata": {},
   "outputs": [],
   "source": [
    "# fix error where first region is set to np.nan\n",
    "game_grid.loc[game_grid['REGION'].isna(),'REGION'] = 0"
   ]
  },
  {
   "cell_type": "code",
   "execution_count": null,
   "metadata": {},
   "outputs": [],
   "source": [
    "# change region for cape into two seperate regions so trucks don't travel long distances\n",
    "ax=game_grid.plot('REGION',figsize=(10,10))\n",
    "cape=Polygon([[-70.9,41.4],[-69.7,41.4],[-70.1,42.4]])\n",
    "cape_small1=Polygon([[-70.9,41.4],[-69.5,41.4],[-70.2,42.0]])\n",
    "cape_small2=Polygon([[-70.9,41.4],[-70.0,41.4],[-70.2,42.0]])\n",
    "cape_small3=Polygon([[-70.9,41.4],[-70.15,41.4],[-70.42,42.0]])\n",
    "cape_small4=Polygon([[-70.9,41.4],[-70.5,41.4],[-70.42,42.0]])\n",
    "cape_small5=Polygon([[-70.9,41.4],[-70.7,41.4],[-70.42,42.0]])\n",
    "ax=plt.plot(*cape.exterior.xy)\n",
    "ax=plt.plot(*cape_small1.exterior.xy)\n",
    "ax=plt.plot(*cape_small2.exterior.xy)\n",
    "ax=plt.plot(*cape_small3.exterior.xy)\n",
    "ax=plt.plot(*cape_small4.exterior.xy)\n",
    "ax=plt.plot(*cape_small5.exterior.xy)"
   ]
  },
  {
   "cell_type": "code",
   "execution_count": null,
   "metadata": {},
   "outputs": [],
   "source": [
    "# set region for each cape \n",
    "game_grid.loc[game_grid.within(cape),'REGION'] = n-1\n",
    "game_grid.loc[game_grid.within(cape_small1),'REGION'] = n-2\n",
    "game_grid.loc[game_grid.within(cape_small2),'REGION'] = n-3\n",
    "game_grid.loc[game_grid.within(cape_small3),'REGION'] = n-4\n",
    "game_grid.loc[game_grid.within(cape_small4),'REGION'] = n-5\n",
    "game_grid.loc[game_grid.within(cape_small5),'REGION'] = n-6"
   ]
  },
  {
   "cell_type": "code",
   "execution_count": null,
   "metadata": {},
   "outputs": [],
   "source": [
    "# combine grid cells into polygon for each region\n",
    "region_polygons=gpd.GeoDataFrame(geometry=game_grid.groupby('REGION').apply(lambda x:x.unary_union))"
   ]
  },
  {
   "cell_type": "code",
   "execution_count": null,
   "metadata": {},
   "outputs": [],
   "source": [
    "# choose colors for 3-coloring\n",
    "colors=np.arange(len(region_polygons))%3"
   ]
  },
  {
   "cell_type": "code",
   "execution_count": null,
   "metadata": {},
   "outputs": [],
   "source": [
    "# plot the regions\n",
    "region_polygons.plot(colors,figsize=(10,10),cmap='Set3')\n",
    "plt.savefig(f'regions_{location_type}.svg', bbox_inches='tight')"
   ]
  },
  {
   "cell_type": "code",
   "execution_count": null,
   "metadata": {},
   "outputs": [],
   "source": [
    "region_polygons.loc[95.0].geometry"
   ]
  },
  {
   "cell_type": "code",
   "execution_count": null,
   "metadata": {},
   "outputs": [],
   "source": [
    "# set regions in locations GeoDataFrame to be same as in game_grid\n",
    "locations_gdf['REGION'] =game_grid['REGION']"
   ]
  },
  {
   "cell_type": "code",
   "execution_count": null,
   "metadata": {},
   "outputs": [],
   "source": [
    "locations_gdf.groupby('REGION').count()"
   ]
  },
  {
   "cell_type": "code",
   "execution_count": null,
   "metadata": {},
   "outputs": [],
   "source": [
    "# get node ids for every region\n",
    "region_ids = locations_gdf.groupby('REGION').apply(lambda x: list(x.index)).to_list()"
   ]
  },
  {
   "cell_type": "code",
   "execution_count": null,
   "metadata": {},
   "outputs": [],
   "source": [
    "# add first base to all regions, so it is added in the route\n",
    "for x in region_ids:\n",
    "    for base in bases:\n",
    "        if base not in x:\n",
    "            x.append(base)"
   ]
  },
  {
   "cell_type": "code",
   "execution_count": null,
   "metadata": {},
   "outputs": [],
   "source": [
    "# list of all nodes possible to visit\n",
    "graph_nodes=list(locations_gdf.index)+list(bases)"
   ]
  },
  {
   "cell_type": "code",
   "execution_count": null,
   "metadata": {},
   "outputs": [],
   "source": [
    "# calculate completed subgraph on nodeList\n",
    "def shortestPathNetwork(nodeList, ogNetwork):\n",
    "    shortest_path_matrix = np.zeros([len(nodeList),len(nodeList)])\n",
    "    for idx_i, orig in enumerate(tqdm(nodeList)):\n",
    "        shortest_paths = nx.single_source_dijkstra_path_length(ogNetwork, orig, weight='weight')\n",
    "        for idx_j, dest in enumerate(nodeList):\n",
    "            shortest_path_matrix[idx_i, idx_j] = shortest_paths[dest]\n",
    "    smallGraph = nx.from_numpy_matrix(shortest_path_matrix, create_using=nx.MultiDiGraph)\n",
    "    smallGraph = nx.relabel_nodes(smallGraph,{k:v for k, v in zip(smallGraph.nodes, nodeList)})\n",
    "    return smallGraph"
   ]
  },
  {
   "cell_type": "code",
   "execution_count": null,
   "metadata": {},
   "outputs": [],
   "source": [
    "# calculate complete graph for all shelers\n",
    "graph=shortestPathNetwork(graph_nodes,G)"
   ]
  },
  {
   "cell_type": "code",
   "execution_count": null,
   "metadata": {},
   "outputs": [],
   "source": [
    "# calculate complete graph for every region where all nodes are connected\n",
    "graphs = [graph.subgraph(x) for x in region_ids]"
   ]
  },
  {
   "cell_type": "code",
   "execution_count": null,
   "metadata": {},
   "outputs": [],
   "source": [
    "get_length_of_path = lambda path, temp_graph: np.sum([temp_graph.get_edge_data(i, j, 0)['weight'] for i,j in zip(path,np.roll(path,1)) if i!=j])"
   ]
  },
  {
   "cell_type": "code",
   "execution_count": null,
   "metadata": {},
   "outputs": [],
   "source": [
    "# for every graph, calculate the TSP (Travelling Salesman Problem) using greedy and refine with 2-opt\n",
    "# print the time to travel over every path\n",
    "import itertools\n",
    "def calculate_paths(graphs,base):\n",
    "    paths=[]\n",
    "    for g in graphs:\n",
    "        temp_graph=g.copy()\n",
    "        temp_graph.remove_node(bases[1-bases.index(base)])\n",
    "        node=base\n",
    "        path=[]\n",
    "        while len(temp_graph)>1:\n",
    "            path.append(node)\n",
    "            arr={x:temp_graph[node][x][0]['weight'] for x in temp_graph.neighbors(node)}\n",
    "            temp_graph.remove_node(node)\n",
    "            node=min(arr,key=arr.get)\n",
    "        temp_graph=g.copy()\n",
    "        temp_graph.remove_node(bases[1-bases.index(base)])\n",
    "        length=get_length_of_path(path,temp_graph)\n",
    "        best_distance,new_distance=np.inf,0\n",
    "        while new_distance<best_distance:\n",
    "            for i, k in itertools.combinations(range(len(path)),r=2):\n",
    "                new_route = path[:i]+list(reversed(path[i:k+1]))+path[k+1:]\n",
    "                new_distance = get_length_of_path(new_route,temp_graph)\n",
    "                if new_distance<best_distance:\n",
    "                    path,best_distance = new_route, new_distance\n",
    "        paths.append((path,(get_length_of_path(path,temp_graph)*120/100+len(temp_graph)*20)/60))\n",
    "    return paths"
   ]
  },
  {
   "cell_type": "code",
   "execution_count": null,
   "metadata": {},
   "outputs": [],
   "source": [
    "# calculate minimum paths and lengths\n",
    "paths, lengths=list(zip(*[x if x[1]<=y[1] else y for x,y in zip(*[calculate_paths(graphs,base) for base in bases])]))"
   ]
  },
  {
   "cell_type": "code",
   "execution_count": null,
   "metadata": {},
   "outputs": [],
   "source": [
    "lengths"
   ]
  },
  {
   "cell_type": "code",
   "execution_count": null,
   "metadata": {},
   "outputs": [],
   "source": [
    "new_path=[]\n",
    "new_path2=[]"
   ]
  },
  {
   "cell_type": "code",
   "execution_count": null,
   "metadata": {},
   "outputs": [],
   "source": [
    "for x in paths[n-6]:\n",
    "    if game_grid.loc[x,'y_centroid']<=41.71592941653868:\n",
    "        new_path.append(x)\n",
    "    else:\n",
    "        new_path2.append(x)"
   ]
  },
  {
   "cell_type": "code",
   "execution_count": null,
   "metadata": {},
   "outputs": [],
   "source": [
    "new_paths=[]"
   ]
  },
  {
   "cell_type": "code",
   "execution_count": null,
   "metadata": {},
   "outputs": [],
   "source": [
    "for i in range(n):\n",
    "    if i==n-6:\n",
    "        new_paths.append([bases[1]]+new_path)\n",
    "    else:\n",
    "        new_paths.append(paths[i])\n",
    "new_paths.append(new_path2)"
   ]
  },
  {
   "cell_type": "code",
   "execution_count": null,
   "metadata": {},
   "outputs": [],
   "source": [
    "graphs.append(graphs[n-6].copy())"
   ]
  },
  {
   "cell_type": "code",
   "execution_count": null,
   "metadata": {},
   "outputs": [],
   "source": [
    "new_lengths=[]"
   ]
  },
  {
   "cell_type": "code",
   "execution_count": null,
   "metadata": {},
   "outputs": [],
   "source": [
    "for i in range(n):\n",
    "    if i==n-6:\n",
    "        new_lengths.append((get_length_of_path(new_paths[n-6],graphs[n-6])*120/100+len(new_paths[n-6])*20)/60)\n",
    "    else:\n",
    "        new_lengths.append(lengths[i])\n",
    "new_lengths.append((get_length_of_path(new_paths[n],graphs[n-6])*120/100+len(new_paths[n])*20)/60)"
   ]
  },
  {
   "cell_type": "code",
   "execution_count": null,
   "metadata": {},
   "outputs": [],
   "source": [
    "# graph all of the paths\n",
    "pos=game_grid[['x_centroid','y_centroid']].T.to_dict('list')\n",
    "edge_data=[]\n",
    "for i, temp_graph,path in list(zip(range(n+1),graphs,new_paths)):\n",
    "    weights=nx.get_edge_attributes(temp_graph,'weight')\n",
    "    edge_data+=[ (x,i%12) for x in zip(path,np.roll(path,1)) if x[0]!=x[1]]\n",
    "edges,weights=zip(*edge_data)\n",
    "ax=game_grid.plot('Transport',figsize=(20,20),alpha=0.5,cmap='copper')\n",
    "nx.draw(G,pos=pos,edgelist=edges,node_size=0,width=3,edge_color=weights,ax=ax,edge_cmap=plt.cm.Set3)\n",
    "plt.savefig(f'paths_{location_type}.svg', bbox_inches='tight')"
   ]
  },
  {
   "cell_type": "code",
   "execution_count": null,
   "metadata": {},
   "outputs": [],
   "source": [
    "final_paths=[np.roll(np.array(p),-np.where(np.array(p)==bases[0])[0]) for p in new_paths if bases[0] in np.array(p)]\n",
    "final_paths+=[np.roll(np.array(p),-np.where(np.array(p)==bases[1])[0]) for p in new_paths if bases[1] in np.array(p)]"
   ]
  },
  {
   "cell_type": "code",
   "execution_count": null,
   "metadata": {},
   "outputs": [],
   "source": [
    "import csv\n",
    "with open('paths_all_locations.csv', 'w', newline='') as f:\n",
    "    writer = csv.writer(f)\n",
    "    writer.writerow(['LENGTH','PATH'])\n",
    "    writer.writerows(zip(new_lengths,final_paths))"
   ]
  },
  {
   "cell_type": "code",
   "execution_count": null,
   "metadata": {},
   "outputs": [],
   "source": [
    "expanded = []\n",
    "for pa in final_paths:\n",
    "    pa=list(pa)\n",
    "    pa.append(pa[0])\n",
    "    newPa = [pa[0]]\n",
    "    for i in range(len(pa)-1):\n",
    "        newPa += nx.shortest_path(G, source=pa[i], target=pa[i+1], weight='weight')[1:]\n",
    "    expanded.append(newPa)"
   ]
  },
  {
   "cell_type": "code",
   "execution_count": null,
   "metadata": {},
   "outputs": [],
   "source": [
    "colorList = ['#8dd3c7','#ffffb3','#bebada','#fb8072','#80b1d3','#fdb462','#b3de69','#fccde5','#bc80bd','#ccebc5','#ffed6f'] * 20\n",
    "\n",
    "ax = game_grid.plot('Transport', figsize=(20,20), cmap='binary', alpha=0.4)\n",
    "pos = game_grid[['x_centroid', 'y_centroid']].T.to_dict('list')\n",
    "for idx, path in tqdm(enumerate(expanded),total=n+1):\n",
    "    edges = [[i,j] for i,j in zip(path, np.roll(path,1)) if  i!=j]\n",
    "    nx.draw(G,pos=pos,edgelist=edges,node_size=0,width=3,edge_color=colorList[idx],ax=ax)\n",
    "# nx.draw_networkx_nodes(G,pos=pos, nodelist=list(joinedLocs.copy().reset_index()['MGRS']),node_color='r',node_size=3)\n",
    "plt.savefig(f'paths_finegrain_{location_type}.png', dpi=100)"
   ]
  }
 ],
 "metadata": {
  "kernelspec": {
   "display_name": "Python 3",
   "language": "python",
   "name": "python3"
  },
  "language_info": {
   "codemirror_mode": {
    "name": "ipython",
    "version": 3
   },
   "file_extension": ".py",
   "mimetype": "text/x-python",
   "name": "python",
   "nbconvert_exporter": "python",
   "pygments_lexer": "ipython3",
   "version": "3.7.6"
  }
 },
 "nbformat": 4,
 "nbformat_minor": 4
}
